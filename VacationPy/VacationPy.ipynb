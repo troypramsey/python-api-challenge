{
 "cells": [
  {
   "cell_type": "markdown",
   "metadata": {},
   "source": [
    "# VacationPy\n",
    "----\n"
   ]
  },
  {
   "cell_type": "code",
   "execution_count": 1,
   "metadata": {},
   "outputs": [],
   "source": [
    "# Importing dependencies\n",
    "import matplotlib.pyplot as plt\n",
    "import pandas as pd\n",
    "import numpy as np\n",
    "import requests\n",
    "import gmaps\n",
    "import os\n",
    "\n",
    "# Import API key\n",
    "from config import gkey\n",
    "\n",
    "gmaps.configure(api_key=gkey)"
   ]
  },
  {
   "cell_type": "markdown",
   "metadata": {},
   "source": [
    "## Read WeatherPy results into dataframe"
   ]
  },
  {
   "cell_type": "code",
   "execution_count": 2,
   "metadata": {},
   "outputs": [
    {
     "data": {
      "text/html": [
       "<div>\n",
       "<style scoped>\n",
       "    .dataframe tbody tr th:only-of-type {\n",
       "        vertical-align: middle;\n",
       "    }\n",
       "\n",
       "    .dataframe tbody tr th {\n",
       "        vertical-align: top;\n",
       "    }\n",
       "\n",
       "    .dataframe thead th {\n",
       "        text-align: right;\n",
       "    }\n",
       "</style>\n",
       "<table border=\"1\" class=\"dataframe\">\n",
       "  <thead>\n",
       "    <tr style=\"text-align: right;\">\n",
       "      <th></th>\n",
       "      <th>City</th>\n",
       "      <th>Country</th>\n",
       "      <th>Latitude</th>\n",
       "      <th>Longitude</th>\n",
       "      <th>Max Temp (F)</th>\n",
       "      <th>Humidity %</th>\n",
       "      <th>Wind (mph)</th>\n",
       "      <th>Cloudiness %</th>\n",
       "      <th>Time</th>\n",
       "      <th>Date</th>\n",
       "    </tr>\n",
       "  </thead>\n",
       "  <tbody>\n",
       "    <tr>\n",
       "      <th>0</th>\n",
       "      <td>Bulgan</td>\n",
       "      <td>MN</td>\n",
       "      <td>48.81</td>\n",
       "      <td>103.53</td>\n",
       "      <td>63.68</td>\n",
       "      <td>82</td>\n",
       "      <td>5.68</td>\n",
       "      <td>99</td>\n",
       "      <td>11:23:49</td>\n",
       "      <td>2020-08-05</td>\n",
       "    </tr>\n",
       "    <tr>\n",
       "      <th>1</th>\n",
       "      <td>Castro</td>\n",
       "      <td>BR</td>\n",
       "      <td>-24.79</td>\n",
       "      <td>-50.01</td>\n",
       "      <td>50.31</td>\n",
       "      <td>93</td>\n",
       "      <td>4.59</td>\n",
       "      <td>0</td>\n",
       "      <td>00:23:50</td>\n",
       "      <td>2020-08-05</td>\n",
       "    </tr>\n",
       "    <tr>\n",
       "      <th>2</th>\n",
       "      <td>Vaini</td>\n",
       "      <td>TO</td>\n",
       "      <td>-21.20</td>\n",
       "      <td>-175.20</td>\n",
       "      <td>75.20</td>\n",
       "      <td>69</td>\n",
       "      <td>6.93</td>\n",
       "      <td>20</td>\n",
       "      <td>16:23:50</td>\n",
       "      <td>2020-08-05</td>\n",
       "    </tr>\n",
       "    <tr>\n",
       "      <th>3</th>\n",
       "      <td>Kruisfontein</td>\n",
       "      <td>ZA</td>\n",
       "      <td>-34.00</td>\n",
       "      <td>24.73</td>\n",
       "      <td>48.99</td>\n",
       "      <td>82</td>\n",
       "      <td>2.48</td>\n",
       "      <td>100</td>\n",
       "      <td>05:23:50</td>\n",
       "      <td>2020-08-05</td>\n",
       "    </tr>\n",
       "    <tr>\n",
       "      <th>4</th>\n",
       "      <td>Mali</td>\n",
       "      <td>GN</td>\n",
       "      <td>12.08</td>\n",
       "      <td>-12.30</td>\n",
       "      <td>58.87</td>\n",
       "      <td>100</td>\n",
       "      <td>3.06</td>\n",
       "      <td>100</td>\n",
       "      <td>03:23:50</td>\n",
       "      <td>2020-08-05</td>\n",
       "    </tr>\n",
       "  </tbody>\n",
       "</table>\n",
       "</div>"
      ],
      "text/plain": [
       "           City Country  Latitude  Longitude  Max Temp (F)  Humidity %  \\\n",
       "0        Bulgan      MN     48.81     103.53         63.68          82   \n",
       "1        Castro      BR    -24.79     -50.01         50.31          93   \n",
       "2         Vaini      TO    -21.20    -175.20         75.20          69   \n",
       "3  Kruisfontein      ZA    -34.00      24.73         48.99          82   \n",
       "4          Mali      GN     12.08     -12.30         58.87         100   \n",
       "\n",
       "   Wind (mph)  Cloudiness %      Time        Date  \n",
       "0        5.68            99  11:23:49  2020-08-05  \n",
       "1        4.59             0  00:23:50  2020-08-05  \n",
       "2        6.93            20  16:23:50  2020-08-05  \n",
       "3        2.48           100  05:23:50  2020-08-05  \n",
       "4        3.06           100  03:23:50  2020-08-05  "
      ]
     },
     "execution_count": 2,
     "metadata": {},
     "output_type": "execute_result"
    }
   ],
   "source": [
    "# Creating path object from WeatherPy output csv\n",
    "csv_path = os.path.join('..','WeatherPy', 'output_data', 'cities.csv')\n",
    "\n",
    "# Reading csv into dataframe\n",
    "vac_df = pd.read_csv(csv_path).reset_index(drop=True).drop(['Unnamed: 0'], axis=1)\n",
    "\n",
    "# Printing sample of dataframe\n",
    "vac_df.head()"
   ]
  },
  {
   "cell_type": "markdown",
   "metadata": {},
   "source": [
    "## Humidity Heatmap"
   ]
  },
  {
   "cell_type": "code",
   "execution_count": 3,
   "metadata": {},
   "outputs": [],
   "source": [
    "# Pulling dataframe columns into variables\n",
    "locations = vac_df[['Latitude', 'Longitude']]\n",
    "humidity = vac_df['Humidity %']"
   ]
  },
  {
   "cell_type": "code",
   "execution_count": 4,
   "metadata": {},
   "outputs": [
    {
     "data": {
      "application/vnd.jupyter.widget-view+json": {
       "model_id": "511eba126ee84092b78b5ae6e2a34931",
       "version_major": 2,
       "version_minor": 0
      },
      "text/plain": [
       "Figure(layout=FigureLayout(height='420px'))"
      ]
     },
     "metadata": {},
     "output_type": "display_data"
    }
   ],
   "source": [
    "# Initializing map\n",
    "fig = gmaps.figure()\n",
    "\n",
    "# Creating heatmap layer, coordinates set on locations list, with weighting determined by humidity %\n",
    "heat_layer = gmaps.heatmap_layer(locations, weights=humidity, \n",
    "                              dissipating=False, max_intensity=100, point_radius=2)\n",
    "# Overlaying heatmap layer\n",
    "fig.add_layer(heat_layer)\n",
    "\n",
    "fig"
   ]
  },
  {
   "cell_type": "markdown",
   "metadata": {},
   "source": [
    "## Filter cities into new dataframe with my ideal weather conditions"
   ]
  },
  {
   "cell_type": "markdown",
   "metadata": {},
   "source": [
    "My ideal weather is between 60-70 degrees fahrenheit, very cloudy, with no wind"
   ]
  },
  {
   "cell_type": "code",
   "execution_count": 5,
   "metadata": {},
   "outputs": [
    {
     "data": {
      "text/html": [
       "<div>\n",
       "<style scoped>\n",
       "    .dataframe tbody tr th:only-of-type {\n",
       "        vertical-align: middle;\n",
       "    }\n",
       "\n",
       "    .dataframe tbody tr th {\n",
       "        vertical-align: top;\n",
       "    }\n",
       "\n",
       "    .dataframe thead th {\n",
       "        text-align: right;\n",
       "    }\n",
       "</style>\n",
       "<table border=\"1\" class=\"dataframe\">\n",
       "  <thead>\n",
       "    <tr style=\"text-align: right;\">\n",
       "      <th></th>\n",
       "      <th>City</th>\n",
       "      <th>Country</th>\n",
       "      <th>Latitude</th>\n",
       "      <th>Longitude</th>\n",
       "      <th>Max Temp (F)</th>\n",
       "      <th>Humidity %</th>\n",
       "      <th>Wind (mph)</th>\n",
       "      <th>Cloudiness %</th>\n",
       "      <th>Time</th>\n",
       "      <th>Date</th>\n",
       "    </tr>\n",
       "  </thead>\n",
       "  <tbody>\n",
       "    <tr>\n",
       "      <th>69</th>\n",
       "      <td>Fortuna</td>\n",
       "      <td>US</td>\n",
       "      <td>40.60</td>\n",
       "      <td>-124.16</td>\n",
       "      <td>60.01</td>\n",
       "      <td>89</td>\n",
       "      <td>3.00</td>\n",
       "      <td>98</td>\n",
       "      <td>20:16:25</td>\n",
       "      <td>2020-08-04</td>\n",
       "    </tr>\n",
       "    <tr>\n",
       "      <th>148</th>\n",
       "      <td>Flin Flon</td>\n",
       "      <td>CA</td>\n",
       "      <td>54.77</td>\n",
       "      <td>-101.86</td>\n",
       "      <td>67.57</td>\n",
       "      <td>84</td>\n",
       "      <td>4.79</td>\n",
       "      <td>99</td>\n",
       "      <td>22:24:25</td>\n",
       "      <td>2020-08-04</td>\n",
       "    </tr>\n",
       "    <tr>\n",
       "      <th>169</th>\n",
       "      <td>Eureka</td>\n",
       "      <td>US</td>\n",
       "      <td>40.80</td>\n",
       "      <td>-124.16</td>\n",
       "      <td>61.00</td>\n",
       "      <td>92</td>\n",
       "      <td>4.00</td>\n",
       "      <td>96</td>\n",
       "      <td>20:24:30</td>\n",
       "      <td>2020-08-04</td>\n",
       "    </tr>\n",
       "    <tr>\n",
       "      <th>298</th>\n",
       "      <td>Taksimo</td>\n",
       "      <td>RU</td>\n",
       "      <td>56.34</td>\n",
       "      <td>114.88</td>\n",
       "      <td>61.74</td>\n",
       "      <td>83</td>\n",
       "      <td>2.59</td>\n",
       "      <td>100</td>\n",
       "      <td>11:24:23</td>\n",
       "      <td>2020-08-05</td>\n",
       "    </tr>\n",
       "    <tr>\n",
       "      <th>315</th>\n",
       "      <td>Plastun</td>\n",
       "      <td>RU</td>\n",
       "      <td>44.76</td>\n",
       "      <td>136.29</td>\n",
       "      <td>64.78</td>\n",
       "      <td>85</td>\n",
       "      <td>4.34</td>\n",
       "      <td>100</td>\n",
       "      <td>13:25:05</td>\n",
       "      <td>2020-08-05</td>\n",
       "    </tr>\n",
       "    <tr>\n",
       "      <th>325</th>\n",
       "      <td>Yei</td>\n",
       "      <td>SS</td>\n",
       "      <td>4.09</td>\n",
       "      <td>30.68</td>\n",
       "      <td>63.75</td>\n",
       "      <td>93</td>\n",
       "      <td>2.89</td>\n",
       "      <td>100</td>\n",
       "      <td>06:16:16</td>\n",
       "      <td>2020-08-05</td>\n",
       "    </tr>\n",
       "    <tr>\n",
       "      <th>384</th>\n",
       "      <td>Torit</td>\n",
       "      <td>SS</td>\n",
       "      <td>4.41</td>\n",
       "      <td>32.57</td>\n",
       "      <td>66.81</td>\n",
       "      <td>86</td>\n",
       "      <td>1.52</td>\n",
       "      <td>100</td>\n",
       "      <td>06:25:21</td>\n",
       "      <td>2020-08-05</td>\n",
       "    </tr>\n",
       "    <tr>\n",
       "      <th>504</th>\n",
       "      <td>Zeya</td>\n",
       "      <td>RU</td>\n",
       "      <td>53.75</td>\n",
       "      <td>127.27</td>\n",
       "      <td>63.50</td>\n",
       "      <td>63</td>\n",
       "      <td>3.40</td>\n",
       "      <td>99</td>\n",
       "      <td>12:25:31</td>\n",
       "      <td>2020-08-05</td>\n",
       "    </tr>\n",
       "  </tbody>\n",
       "</table>\n",
       "</div>"
      ],
      "text/plain": [
       "          City Country  Latitude  Longitude  Max Temp (F)  Humidity %  \\\n",
       "69     Fortuna      US     40.60    -124.16         60.01          89   \n",
       "148  Flin Flon      CA     54.77    -101.86         67.57          84   \n",
       "169     Eureka      US     40.80    -124.16         61.00          92   \n",
       "298    Taksimo      RU     56.34     114.88         61.74          83   \n",
       "315    Plastun      RU     44.76     136.29         64.78          85   \n",
       "325        Yei      SS      4.09      30.68         63.75          93   \n",
       "384      Torit      SS      4.41      32.57         66.81          86   \n",
       "504       Zeya      RU     53.75     127.27         63.50          63   \n",
       "\n",
       "     Wind (mph)  Cloudiness %      Time        Date  \n",
       "69         3.00            98  20:16:25  2020-08-04  \n",
       "148        4.79            99  22:24:25  2020-08-04  \n",
       "169        4.00            96  20:24:30  2020-08-04  \n",
       "298        2.59           100  11:24:23  2020-08-05  \n",
       "315        4.34           100  13:25:05  2020-08-05  \n",
       "325        2.89           100  06:16:16  2020-08-05  \n",
       "384        1.52           100  06:25:21  2020-08-05  \n",
       "504        3.40            99  12:25:31  2020-08-05  "
      ]
     },
     "execution_count": 5,
     "metadata": {},
     "output_type": "execute_result"
    }
   ],
   "source": [
    "ideal_df = vac_df.loc[(vac_df['Max Temp (F)'] <= 68) & (vac_df['Max Temp (F)'] >= 60) \n",
    "                      & (vac_df['Cloudiness %'] > 95) & (vac_df['Wind (mph)'] < 5), :]\n",
    "\n",
    "ideal_df"
   ]
  },
  {
   "cell_type": "markdown",
   "metadata": {},
   "source": [
    "## Creating a map overlay of hotels in my preferred weather conditions"
   ]
  },
  {
   "cell_type": "code",
   "execution_count": 6,
   "metadata": {},
   "outputs": [],
   "source": [
    "# Assigning Maps Places syntax as a base call variable\n",
    "base_url = \"https://maps.googleapis.com/maps/api/place/nearbysearch/json\"\n",
    "\n",
    "# Creating empty hotels list to store Places call results\n",
    "hotels = []\n",
    "\n",
    "# Iterating through dataframe and extracting variables to populate call parameters\n",
    "for index, row in ideal_df.iterrows():\n",
    "    params = {\"location\": f\"{row['Latitude']}, {row['Longitude']}\",\n",
    "              \"radius\": 5000,\n",
    "              \"type\": 'hotel',\n",
    "              \"key\": gkey}\n",
    "    \n",
    "    # Error handling for locations without multiple results\n",
    "    try:\n",
    "        response = requests.get(base_url, params=params).json()\n",
    "        hotels.append(response['results'][1]['name'])\n",
    "    except:\n",
    "        hotels.append('None')"
   ]
  },
  {
   "cell_type": "code",
   "execution_count": 7,
   "metadata": {},
   "outputs": [
    {
     "name": "stderr",
     "output_type": "stream",
     "text": [
      "/Users/troyramsey/opt/anaconda3/envs/UODataClass/lib/python3.6/site-packages/ipykernel_launcher.py:4: SettingWithCopyWarning: \n",
      "A value is trying to be set on a copy of a slice from a DataFrame.\n",
      "Try using .loc[row_indexer,col_indexer] = value instead\n",
      "\n",
      "See the caveats in the documentation: https://pandas.pydata.org/pandas-docs/stable/user_guide/indexing.html#returning-a-view-versus-a-copy\n",
      "  after removing the cwd from sys.path.\n"
     ]
    }
   ],
   "source": [
    "# Cleaning up hotel name format\n",
    "hotels = [i.lower() for i in hotels]\n",
    "hotels = [i.title() for i in hotels]\n",
    "ideal_df['Hotel Name'] = hotels\n",
    "\n",
    "# Renaming dataframe variable\n",
    "hotel_df = ideal_df"
   ]
  },
  {
   "cell_type": "code",
   "execution_count": 8,
   "metadata": {},
   "outputs": [],
   "source": [
    "# Setting up template for info boxes on marker layer\n",
    "info_box_template = \"\"\"\n",
    "<dl>\n",
    "<dt>Name</dt><dd>{Hotel Name}</dd>\n",
    "<dt>City</dt><dd>{City}</dd>\n",
    "<dt>Country</dt><dd>{Country}</dd>\n",
    "</dl>\n",
    "\"\"\"\n",
    "\n",
    "# Populating list with hotel information\n",
    "hotel_info = [info_box_template.format(**row) for index, row in hotel_df.iterrows()]\n",
    "locations = hotel_df[[\"Latitude\", \"Longitude\"]]"
   ]
  },
  {
   "cell_type": "code",
   "execution_count": 9,
   "metadata": {},
   "outputs": [
    {
     "data": {
      "application/vnd.jupyter.widget-view+json": {
       "model_id": "511eba126ee84092b78b5ae6e2a34931",
       "version_major": 2,
       "version_minor": 0
      },
      "text/plain": [
       "Figure(layout=FigureLayout(height='420px'))"
      ]
     },
     "metadata": {},
     "output_type": "display_data"
    }
   ],
   "source": [
    "# Creating and formatting marker layer\n",
    "hotel_layer = gmaps.symbol_layer(\n",
    "    locations, fill_color='black',\n",
    "    stroke_color='black', scale=2,\n",
    "    info_box_content=hotel_info\n",
    ")\n",
    "\n",
    "# Overlaying marker layer onto heatmap\n",
    "fig.add_layer(hotel_layer)\n",
    "\n",
    "fig"
   ]
  },
  {
   "cell_type": "code",
   "execution_count": null,
   "metadata": {},
   "outputs": [],
   "source": []
  }
 ],
 "metadata": {
  "kernelspec": {
   "display_name": "Python 3",
   "language": "python",
   "name": "python3"
  },
  "language_info": {
   "codemirror_mode": {
    "name": "ipython",
    "version": 3
   },
   "file_extension": ".py",
   "mimetype": "text/x-python",
   "name": "python",
   "nbconvert_exporter": "python",
   "pygments_lexer": "ipython3",
   "version": "3.6.10"
  },
  "latex_envs": {
   "LaTeX_envs_menu_present": true,
   "autoclose": false,
   "autocomplete": true,
   "bibliofile": "biblio.bib",
   "cite_by": "apalike",
   "current_citInitial": 1,
   "eqLabelWithNumbers": true,
   "eqNumInitial": 1,
   "hotkeys": {
    "equation": "Ctrl-E",
    "itemize": "Ctrl-I"
   },
   "labels_anchors": false,
   "latex_user_defs": false,
   "report_style_numbering": false,
   "user_envs_cfg": false
  }
 },
 "nbformat": 4,
 "nbformat_minor": 2
}
