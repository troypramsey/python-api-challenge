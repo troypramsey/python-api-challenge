{
 "cells": [
  {
   "cell_type": "code",
   "execution_count": 14,
   "metadata": {},
   "outputs": [],
   "source": [
    "import requests\n",
    "import json\n",
    "from config import api_key"
   ]
  },
  {
   "cell_type": "code",
   "execution_count": 20,
   "metadata": {},
   "outputs": [
    {
     "name": "stdout",
     "output_type": "stream",
     "text": [
      "Which city would you like to look for? London\n"
     ]
    }
   ],
   "source": [
    "city = input('Which city would you like to look for? ')\n",
    "url = \"http://api.openweathermap.org/data/2.5/weather?\"\n",
    "query = f\"{url}appid={api_key}&q={city}&units=imperial\"\n",
    "response = requests.get(query).json()"
   ]
  },
  {
   "cell_type": "markdown",
   "metadata": {},
   "source": [
    "# Format is response['key1']['key2'] unless using 'weather' key, then response['weather'][0]['key2']"
   ]
  },
  {
   "cell_type": "code",
   "execution_count": 21,
   "metadata": {},
   "outputs": [
    {
     "name": "stdout",
     "output_type": "stream",
     "text": [
      "{\n",
      "    \"coord\": {\n",
      "        \"lon\": -0.13,\n",
      "        \"lat\": 51.51\n",
      "    },\n",
      "    \"weather\": [\n",
      "        {\n",
      "            \"id\": 804,\n",
      "            \"main\": \"Clouds\",\n",
      "            \"description\": \"overcast clouds\",\n",
      "            \"icon\": \"04n\"\n",
      "        }\n",
      "    ],\n",
      "    \"base\": \"stations\",\n",
      "    \"main\": {\n",
      "        \"temp\": 64.45,\n",
      "        \"feels_like\": 59.18,\n",
      "        \"temp_min\": 63,\n",
      "        \"temp_max\": 66.2,\n",
      "        \"pressure\": 1013,\n",
      "        \"humidity\": 63\n",
      "    },\n",
      "    \"visibility\": 10000,\n",
      "    \"wind\": {\n",
      "        \"speed\": 10.29,\n",
      "        \"deg\": 230\n",
      "    },\n",
      "    \"clouds\": {\n",
      "        \"all\": 100\n",
      "    },\n",
      "    \"dt\": 1595794105,\n",
      "    \"sys\": {\n",
      "        \"type\": 1,\n",
      "        \"id\": 1414,\n",
      "        \"country\": \"GB\",\n",
      "        \"sunrise\": 1595736950,\n",
      "        \"sunset\": 1595793478\n",
      "    },\n",
      "    \"timezone\": 3600,\n",
      "    \"id\": 2643743,\n",
      "    \"name\": \"London\",\n",
      "    \"cod\": 200\n",
      "}\n"
     ]
    }
   ],
   "source": [
    "print(json.dumps(response, indent=4))"
   ]
  },
  {
   "cell_type": "code",
   "execution_count": 25,
   "metadata": {},
   "outputs": [
    {
     "data": {
      "text/plain": [
       "'Clouds'"
      ]
     },
     "execution_count": 25,
     "metadata": {},
     "output_type": "execute_result"
    }
   ],
   "source": [
    "response['weather'][0]['main']"
   ]
  },
  {
   "cell_type": "code",
   "execution_count": null,
   "metadata": {},
   "outputs": [],
   "source": []
  }
 ],
 "metadata": {
  "kernelspec": {
   "display_name": "Python 3",
   "language": "python",
   "name": "python3"
  },
  "language_info": {
   "codemirror_mode": {
    "name": "ipython",
    "version": 3
   },
   "file_extension": ".py",
   "mimetype": "text/x-python",
   "name": "python",
   "nbconvert_exporter": "python",
   "pygments_lexer": "ipython3",
   "version": "3.6.10"
  }
 },
 "nbformat": 4,
 "nbformat_minor": 4
}
